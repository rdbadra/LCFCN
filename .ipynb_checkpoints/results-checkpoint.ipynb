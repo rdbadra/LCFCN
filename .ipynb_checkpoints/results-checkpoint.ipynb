{
 "cells": [
  {
   "cell_type": "code",
   "execution_count": null,
   "id": "falling-optimum",
   "metadata": {},
   "outputs": [],
   "source": [
    "from haven import haven_jupyter as hj\n",
    "from haven import haven_results as hr\n",
    "\n",
    "try:\n",
    "    %load_ext google.colab.data_table\n",
    "except:\n",
    "    pass\n",
    "\n",
    "# path to where the experiments got saved\n",
    "savedir_base = 'outputs'\n",
    "\n",
    "# filter exps\n",
    "filterby_list = None\n",
    "# get experiments\n",
    "rm = hr.ResultManager(savedir_base=savedir_base, \n",
    "                      filterby_list=filterby_list, \n",
    "                      verbose=0)\n",
    "# dashboard variables\n",
    "title_list = ['dataset', 'model']\n",
    "y_metrics = ['val_mae']\n",
    "\n",
    "# launch dashboard\n",
    "hj.get_dashboard(rm, vars(), wide_display=True)"
   ]
  }
 ],
 "metadata": {
  "kernelspec": {
   "display_name": "Python 3",
   "language": "python",
   "name": "python3"
  },
  "language_info": {
   "codemirror_mode": {
    "name": "ipython",
    "version": 3
   },
   "file_extension": ".py",
   "mimetype": "text/x-python",
   "name": "python",
   "nbconvert_exporter": "python",
   "pygments_lexer": "ipython3",
   "version": "3.8.8"
  }
 },
 "nbformat": 4,
 "nbformat_minor": 5
}
